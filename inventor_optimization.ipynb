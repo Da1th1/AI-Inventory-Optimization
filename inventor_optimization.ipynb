{
 "cells": [
  {
   "cell_type": "markdown",
   "metadata": {},
   "source": [
    "# AI Inventory Optimization  \n",
    "\n",
    "**Objective:** Optimize inventory levels by predicting when and how much of a product to reorder to minimize costs and avoid stockouts.  \n",
    "\n",
    "\n",
    "## Steps:\n",
    "\n",
    "### Data Collection:\n",
    "\n",
    "- Gather historical sales and inventory data.\n",
    "- Include other data like lead time (time taken to restock an item), supplier reliability metrics, promotions, and external events.  \n",
    "\n",
    "### Data Cleaning:\n",
    "\n",
    "- Handle missing values.  \n",
    "- Remove outliers that might be due to data entry errors or exceptional events.  \n",
    "- Convert categorical data to numerical (using techniques like one-hot encoding).  \n",
    "  \n",
    "### Exploratory Data Analysis (EDA):\n",
    "\n",
    "- Visualize inventory levels and sales trends over time.  \n",
    "- Identify patterns and seasonality in product demand.  \n",
    "- Analyze the impact of external events on inventory levels.  \n",
    "  \n",
    "### Feature Engineering:\n",
    "\n",
    "- Create lag features (sales and inventory levels from previous days/weeks/months).  \n",
    "- Extract time-based features like day of the week, month, quarter, etc.  \n",
    "- Calculate historical stockout days for each product.  \n",
    "\n",
    "### Model Selection:  \n",
    "\n",
    "- Use regression models (like linear regression, decision trees, or neural networks) to predict future sales.  \n",
    "- Consider using reinforcement learning approaches to decide on reorder quantities.  \n",
    "  \n",
    "### Model Training:  \n",
    "\n",
    "- Train the chosen model on the training dataset.  \n",
    "- Fine-tune model parameters for optimal performance.  \n",
    "\n",
    "### Model Evaluation:\n",
    "\n",
    "- Predict sales and reorder points on the test set.  \n",
    "- Use metrics like MAE (Mean Absolute Error), RMSE (Root Mean Squared Error), and custom metrics that consider inventory holding costs and stockout costs.  \n",
    "\n",
    "### Further Steps (Not Coded) . \n",
    "\n",
    "#### Deployment:\n",
    "\n",
    "- Integrate the model with the inventory management system.  \n",
    "- Set up a system to feed new sales and inventory data into the model and get reorder recommendations.  \n",
    "\n",
    "#### Iterative Improvement:\n",
    "\n",
    "- Continuously monitor the model's performance.  \n",
    "- Adjust reorder levels based on changing business needs or supply chain disruptions.  \n",
    "- Re-train with new data periodically.  \n",
    "\n",
    "### Business Benefits:\n",
    "\n",
    "- **Reduced Holding Costs:** By maintaining an optimal inventory level, businesses can save costs associated with storing excess inventory.  \n",
    "- **Avoid Stockouts:** Predictive models can help businesses anticipate periods of high demand and ensure they have enough stock on hand.  \n",
    "- **Optimal Capital Allocation:** By avoiding overstocking, businesses can allocate capital to other growth initiatives.  \n",
    "- **Improved Supplier Negotiations:** With accurate demand forecasts, businesses can negotiate bulk order discounts with suppliers.  \n",
    "- **Enhanced Customer Satisfaction:** Ensuring products are available when customers want them leads to better customer experiences.  \n",
    "  \n",
    "Inventory optimization is crucial for businesses, especially in sectors like retail, manufacturing, and e-commerce, where managing stock levels efficiently can result in significant cost savings and revenue gains."
   ]
  },
  {
   "cell_type": "code",
   "execution_count": 1,
   "metadata": {},
   "outputs": [],
   "source": [
    "# Importing necessary libraries\n",
    "\n",
    "import pandas as pd\n",
    "import numpy as np\n",
    "import matplotlib.pyplot as plt\n",
    "import seaborn as sns\n",
    "from sklearn.model_selection import train_test_split\n",
    "from sklearn.linear_model import LinearRegression\n",
    "from sklearn.metrics import mean_absolute_error, mean_squared_error\n"
   ]
  },
  {
   "cell_type": "markdown",
   "metadata": {},
   "source": [
    "### Data Collection"
   ]
  },
  {
   "cell_type": "code",
   "execution_count": 2,
   "metadata": {},
   "outputs": [
    {
     "data": {
      "text/html": [
       "<div>\n",
       "<style scoped>\n",
       "    .dataframe tbody tr th:only-of-type {\n",
       "        vertical-align: middle;\n",
       "    }\n",
       "\n",
       "    .dataframe tbody tr th {\n",
       "        vertical-align: top;\n",
       "    }\n",
       "\n",
       "    .dataframe thead th {\n",
       "        text-align: right;\n",
       "    }\n",
       "</style>\n",
       "<table border=\"1\" class=\"dataframe\">\n",
       "  <thead>\n",
       "    <tr style=\"text-align: right;\">\n",
       "      <th></th>\n",
       "      <th>Date</th>\n",
       "      <th>Sales (NS)</th>\n",
       "      <th>CGM (NS)</th>\n",
       "      <th>Box (NS)</th>\n",
       "      <th>Patch (NS)</th>\n",
       "      <th>Pamphlet (NS)</th>\n",
       "      <th>Sales (GH)</th>\n",
       "      <th>CGM (GH)</th>\n",
       "      <th>Box (GH)</th>\n",
       "      <th>Patch (GH)</th>\n",
       "      <th>Pamphlet (GH)</th>\n",
       "    </tr>\n",
       "  </thead>\n",
       "  <tbody>\n",
       "    <tr>\n",
       "      <th>0</th>\n",
       "      <td>10/11/2021</td>\n",
       "      <td>75</td>\n",
       "      <td>8831.0</td>\n",
       "      <td>5516.0</td>\n",
       "      <td>15112.0</td>\n",
       "      <td>5691.0</td>\n",
       "      <td>180</td>\n",
       "      <td>360.0</td>\n",
       "      <td>6630.0</td>\n",
       "      <td>11787.0</td>\n",
       "      <td>7390.0</td>\n",
       "    </tr>\n",
       "    <tr>\n",
       "      <th>1</th>\n",
       "      <td>10/12/2021</td>\n",
       "      <td>75</td>\n",
       "      <td>8681.0</td>\n",
       "      <td>5441.0</td>\n",
       "      <td>14962.0</td>\n",
       "      <td>5616.0</td>\n",
       "      <td>180</td>\n",
       "      <td>360.0</td>\n",
       "      <td>6450.0</td>\n",
       "      <td>11427.0</td>\n",
       "      <td>7210.0</td>\n",
       "    </tr>\n",
       "    <tr>\n",
       "      <th>2</th>\n",
       "      <td>10/13/2021</td>\n",
       "      <td>75</td>\n",
       "      <td>8531.0</td>\n",
       "      <td>5366.0</td>\n",
       "      <td>14812.0</td>\n",
       "      <td>5541.0</td>\n",
       "      <td>180</td>\n",
       "      <td>360.0</td>\n",
       "      <td>6270.0</td>\n",
       "      <td>11067.0</td>\n",
       "      <td>7030.0</td>\n",
       "    </tr>\n",
       "    <tr>\n",
       "      <th>3</th>\n",
       "      <td>10/14/2021</td>\n",
       "      <td>75</td>\n",
       "      <td>8381.0</td>\n",
       "      <td>5291.0</td>\n",
       "      <td>14662.0</td>\n",
       "      <td>5466.0</td>\n",
       "      <td>181</td>\n",
       "      <td>362.0</td>\n",
       "      <td>6090.0</td>\n",
       "      <td>10707.0</td>\n",
       "      <td>6850.0</td>\n",
       "    </tr>\n",
       "    <tr>\n",
       "      <th>4</th>\n",
       "      <td>10/15/2021</td>\n",
       "      <td>75</td>\n",
       "      <td>8231.0</td>\n",
       "      <td>5216.0</td>\n",
       "      <td>14512.0</td>\n",
       "      <td>5391.0</td>\n",
       "      <td>181</td>\n",
       "      <td>362.0</td>\n",
       "      <td>5909.0</td>\n",
       "      <td>10345.0</td>\n",
       "      <td>6669.0</td>\n",
       "    </tr>\n",
       "  </tbody>\n",
       "</table>\n",
       "</div>"
      ],
      "text/plain": [
       "         Date  Sales (NS)  CGM (NS)  Box (NS)  Patch (NS)  Pamphlet (NS)  \\\n",
       "0  10/11/2021          75    8831.0    5516.0     15112.0         5691.0   \n",
       "1  10/12/2021          75    8681.0    5441.0     14962.0         5616.0   \n",
       "2  10/13/2021          75    8531.0    5366.0     14812.0         5541.0   \n",
       "3  10/14/2021          75    8381.0    5291.0     14662.0         5466.0   \n",
       "4  10/15/2021          75    8231.0    5216.0     14512.0         5391.0   \n",
       "\n",
       "   Sales (GH)  CGM (GH)  Box (GH)  Patch (GH)  Pamphlet (GH)  \n",
       "0         180     360.0    6630.0     11787.0         7390.0  \n",
       "1         180     360.0    6450.0     11427.0         7210.0  \n",
       "2         180     360.0    6270.0     11067.0         7030.0  \n",
       "3         181     362.0    6090.0     10707.0         6850.0  \n",
       "4         181     362.0    5909.0     10345.0         6669.0  "
      ]
     },
     "execution_count": 2,
     "metadata": {},
     "output_type": "execute_result"
    }
   ],
   "source": [
    "# Assuming you have a CSV file named \"inventory_data.csv\"\n",
    "data = pd.read_csv(\"inventory_data.csv\")\n",
    "\n",
    "# Display the first few rows of the dataset\n",
    "data.head()\n"
   ]
  },
  {
   "cell_type": "markdown",
   "metadata": {},
   "source": [
    "Great! Now that we have the data loaded, we can observe the following columns:\n",
    "\n",
    "Date: Represents the date of the data entry.\n",
    "Sales (NS), Sales (GH): Sales figures for two different categories (let's assume NS and GH represent different regions or product types).\n",
    "Several other columns representing inventory levels for different items like CGM, Box, Patch, and Pamphlet for both NS and GH."
   ]
  },
  {
   "cell_type": "markdown",
   "metadata": {},
   "source": [
    "### Data Cleaning"
   ]
  },
  {
   "cell_type": "code",
   "execution_count": 3,
   "metadata": {},
   "outputs": [
    {
     "name": "stdout",
     "output_type": "stream",
     "text": [
      "<class 'pandas.core.frame.DataFrame'>\n",
      "RangeIndex: 498 entries, 0 to 497\n",
      "Data columns (total 11 columns):\n",
      " #   Column         Non-Null Count  Dtype         \n",
      "---  ------         --------------  -----         \n",
      " 0   Date           498 non-null    datetime64[ns]\n",
      " 1   Sales (NS)     498 non-null    int64         \n",
      " 2   CGM (NS)       498 non-null    float64       \n",
      " 3   Box (NS)       498 non-null    float64       \n",
      " 4   Patch (NS)     498 non-null    float64       \n",
      " 5   Pamphlet (NS)  498 non-null    float64       \n",
      " 6   Sales (GH)     498 non-null    int64         \n",
      " 7   CGM (GH)       498 non-null    float64       \n",
      " 8   Box (GH)       498 non-null    float64       \n",
      " 9   Patch (GH)     498 non-null    float64       \n",
      " 10  Pamphlet (GH)  498 non-null    float64       \n",
      "dtypes: datetime64[ns](1), float64(8), int64(2)\n",
      "memory usage: 42.9 KB\n"
     ]
    }
   ],
   "source": [
    "# Converting the 'Date' column to a datetime format for easier manipulation\n",
    "data['Date'] = pd.to_datetime(data['Date'])\n",
    "\n",
    "# Handling missing values by filling with the median \n",
    "# (This is a common approach, but other methods might be suitable depending on the context.)\n",
    "data.fillna(data.median(), inplace=True)\n",
    "\n",
    "# Checking the cleaned data\n",
    "data.info()\n",
    "\n"
   ]
  },
  {
   "cell_type": "markdown",
   "metadata": {},
   "source": [
    "The data is now cleaned with no missing values.\n",
    "\n",
    "Next, let's proceed with some Exploratory Data Analysis (EDA). We'll visualize sales trends over time for both the Sales (NS) and Sales (GH) columns to get an understanding of the data's behavior."
   ]
  },
  {
   "cell_type": "markdown",
   "metadata": {},
   "source": [
    "### Exploratory Data Analysis (EDA)"
   ]
  },
  {
   "cell_type": "code",
   "execution_count": 4,
   "metadata": {},
   "outputs": [
    {
     "data": {
      "image/png": "[encoded data removed]",
      "text/plain": [
       "<Figure size 1500x600 with 2 Axes>"
      ]
     },
     "metadata": {},
     "output_type": "display_data"
    }
   ],
   "source": [
    "# Plotting sales trends over time\n",
    "\n",
    "plt.figure(figsize=(15, 6))\n",
    "\n",
    "# Plotting Sales (NS) over time\n",
    "plt.subplot(1, 2, 1)\n",
    "plt.plot(data['Date'], data['Sales (NS)'], label='Sales (NS)', color='blue')\n",
    "plt.title('Sales (NS) Trends Over Time')\n",
    "plt.xlabel('Date')\n",
    "plt.ylabel('Sales (NS)')\n",
    "plt.legend()\n",
    "\n",
    "# Plotting Sales (GH) over time\n",
    "plt.subplot(1, 2, 2)\n",
    "plt.plot(data['Date'], data['Sales (GH)'], label='Sales (GH)', color='green')\n",
    "plt.title('Sales (GH) Trends Over Time')\n",
    "plt.xlabel('Date')\n",
    "plt.ylabel('Sales (GH)')\n",
    "plt.legend()\n",
    "\n",
    "plt.tight_layout()\n",
    "plt.show()\n"
   ]
  },
  {
   "cell_type": "markdown",
   "metadata": {},
   "source": [
    "The sales trends for both Sales (NS) and Sales (GH) are displayed. While there are some fluctuations, the overall trends appear relatively stable over time.\n",
    "\n",
    "Next, we'll move to feature engineering. For simplicity, we'll create lag features for sales and extract the day of the week from the date. These new features can potentially help our model capture patterns and dependencies in the data."
   ]
  },
  {
   "cell_type": "markdown",
   "metadata": {},
   "source": [
    "### Feature Engineering"
   ]
  },
  {
   "cell_type": "code",
   "execution_count": 5,
   "metadata": {},
   "outputs": [
    {
     "data": {
      "text/html": [
       "<div>\n",
       "<style scoped>\n",
       "    .dataframe tbody tr th:only-of-type {\n",
       "        vertical-align: middle;\n",
       "    }\n",
       "\n",
       "    .dataframe tbody tr th {\n",
       "        vertical-align: top;\n",
       "    }\n",
       "\n",
       "    .dataframe thead th {\n",
       "        text-align: right;\n",
       "    }\n",
       "</style>\n",
       "<table border=\"1\" class=\"dataframe\">\n",
       "  <thead>\n",
       "    <tr style=\"text-align: right;\">\n",
       "      <th></th>\n",
       "      <th>Date</th>\n",
       "      <th>Sales (NS)</th>\n",
       "      <th>CGM (NS)</th>\n",
       "      <th>Box (NS)</th>\n",
       "      <th>Patch (NS)</th>\n",
       "      <th>Pamphlet (NS)</th>\n",
       "      <th>Sales (GH)</th>\n",
       "      <th>CGM (GH)</th>\n",
       "      <th>Box (GH)</th>\n",
       "      <th>Patch (GH)</th>\n",
       "      <th>Pamphlet (GH)</th>\n",
       "      <th>Sales (NS)_lag1</th>\n",
       "      <th>Day_of_Week</th>\n",
       "    </tr>\n",
       "  </thead>\n",
       "  <tbody>\n",
       "    <tr>\n",
       "      <th>0</th>\n",
       "      <td>2021-10-11</td>\n",
       "      <td>75</td>\n",
       "      <td>8831.0</td>\n",
       "      <td>5516.0</td>\n",
       "      <td>15112.0</td>\n",
       "      <td>5691.0</td>\n",
       "      <td>180</td>\n",
       "      <td>360.0</td>\n",
       "      <td>6630.0</td>\n",
       "      <td>11787.0</td>\n",
       "      <td>7390.0</td>\n",
       "      <td>NaN</td>\n",
       "      <td>0</td>\n",
       "    </tr>\n",
       "    <tr>\n",
       "      <th>1</th>\n",
       "      <td>2021-10-12</td>\n",
       "      <td>75</td>\n",
       "      <td>8681.0</td>\n",
       "      <td>5441.0</td>\n",
       "      <td>14962.0</td>\n",
       "      <td>5616.0</td>\n",
       "      <td>180</td>\n",
       "      <td>360.0</td>\n",
       "      <td>6450.0</td>\n",
       "      <td>11427.0</td>\n",
       "      <td>7210.0</td>\n",
       "      <td>75.0</td>\n",
       "      <td>1</td>\n",
       "    </tr>\n",
       "    <tr>\n",
       "      <th>2</th>\n",
       "      <td>2021-10-13</td>\n",
       "      <td>75</td>\n",
       "      <td>8531.0</td>\n",
       "      <td>5366.0</td>\n",
       "      <td>14812.0</td>\n",
       "      <td>5541.0</td>\n",
       "      <td>180</td>\n",
       "      <td>360.0</td>\n",
       "      <td>6270.0</td>\n",
       "      <td>11067.0</td>\n",
       "      <td>7030.0</td>\n",
       "      <td>75.0</td>\n",
       "      <td>2</td>\n",
       "    </tr>\n",
       "    <tr>\n",
       "      <th>3</th>\n",
       "      <td>2021-10-14</td>\n",
       "      <td>75</td>\n",
       "      <td>8381.0</td>\n",
       "      <td>5291.0</td>\n",
       "      <td>14662.0</td>\n",
       "      <td>5466.0</td>\n",
       "      <td>181</td>\n",
       "      <td>362.0</td>\n",
       "      <td>6090.0</td>\n",
       "      <td>10707.0</td>\n",
       "      <td>6850.0</td>\n",
       "      <td>75.0</td>\n",
       "      <td>3</td>\n",
       "    </tr>\n",
       "    <tr>\n",
       "      <th>4</th>\n",
       "      <td>2021-10-15</td>\n",
       "      <td>75</td>\n",
       "      <td>8231.0</td>\n",
       "      <td>5216.0</td>\n",
       "      <td>14512.0</td>\n",
       "      <td>5391.0</td>\n",
       "      <td>181</td>\n",
       "      <td>362.0</td>\n",
       "      <td>5909.0</td>\n",
       "      <td>10345.0</td>\n",
       "      <td>6669.0</td>\n",
       "      <td>75.0</td>\n",
       "      <td>4</td>\n",
       "    </tr>\n",
       "  </tbody>\n",
       "</table>\n",
       "</div>"
      ],
      "text/plain": [
       "        Date  Sales (NS)  CGM (NS)  Box (NS)  Patch (NS)  Pamphlet (NS)  \\\n",
       "0 2021-10-11          75    8831.0    5516.0     15112.0         5691.0   \n",
       "1 2021-10-12          75    8681.0    5441.0     14962.0         5616.0   \n",
       "2 2021-10-13          75    8531.0    5366.0     14812.0         5541.0   \n",
       "3 2021-10-14          75    8381.0    5291.0     14662.0         5466.0   \n",
       "4 2021-10-15          75    8231.0    5216.0     14512.0         5391.0   \n",
       "\n",
       "   Sales (GH)  CGM (GH)  Box (GH)  Patch (GH)  Pamphlet (GH)  Sales (NS)_lag1  \\\n",
       "0         180     360.0    6630.0     11787.0         7390.0              NaN   \n",
       "1         180     360.0    6450.0     11427.0         7210.0             75.0   \n",
       "2         180     360.0    6270.0     11067.0         7030.0             75.0   \n",
       "3         181     362.0    6090.0     10707.0         6850.0             75.0   \n",
       "4         181     362.0    5909.0     10345.0         6669.0             75.0   \n",
       "\n",
       "   Day_of_Week  \n",
       "0            0  \n",
       "1            1  \n",
       "2            2  \n",
       "3            3  \n",
       "4            4  "
      ]
     },
     "execution_count": 5,
     "metadata": {},
     "output_type": "execute_result"
    }
   ],
   "source": [
    "\n",
    "\n",
    "# Creating lag features for sales \n",
    "data['Sales (NS)_lag1'] = data['Sales (NS)'].shift(1)\n",
    "\n",
    "# Extracting day of the week from date (0 = Monday, 6 = Sunday)\n",
    "data['Day_of_Week'] = data['Date'].dt.dayofweek\n",
    "\n",
    "# Checking the dataset with new features\n",
    "data.head()\n"
   ]
  },
  {
   "cell_type": "markdown",
   "metadata": {},
   "source": [
    "We have successfully added the lag features for sales and extracted the day of the week.\n",
    "\n",
    "Next, let's proceed to Model Selection & Training. For demonstration purposes, I'll predict Sales (NS) based on the lag feature and day of the week. However, the same approach can be applied to Sales (GH) or any other target variable you're interested in."
   ]
  },
  {
   "cell_type": "markdown",
   "metadata": {},
   "source": [
    "### Model Selection & Training"
   ]
  },
  {
   "cell_type": "code",
   "execution_count": 6,
   "metadata": {},
   "outputs": [
    {
     "data": {
      "text/html": [
       "<style>#sk-container-id-1 {color: black;}#sk-container-id-1 pre{padding: 0;}#sk-container-id-1 div.sk-toggleable {background-color: white;}#sk-container-id-1 label.sk-toggleable__label {cursor: pointer;display: block;width: 100%;margin-bottom: 0;padding: 0.3em;box-sizing: border-box;text-align: center;}#sk-container-id-1 label.sk-toggleable__label-arrow:before {content: \"▸\";float: left;margin-right: 0.25em;color: #696969;}#sk-container-id-1 label.sk-toggleable__label-arrow:hover:before {color: black;}#sk-container-id-1 div.sk-estimator:hover label.sk-toggleable__label-arrow:before {color: black;}#sk-container-id-1 div.sk-toggleable__content {max-height: 0;max-width: 0;overflow: hidden;text-align: left;background-color: #f0f8ff;}#sk-container-id-1 div.sk-toggleable__content pre {margin: 0.2em;color: black;border-radius: 0.25em;background-color: #f0f8ff;}#sk-container-id-1 input.sk-toggleable__control:checked~div.sk-toggleable__content {max-height: 200px;max-width: 100%;overflow: auto;}#sk-container-id-1 input.sk-toggleable__control:checked~label.sk-toggleable__label-arrow:before {content: \"▾\";}#sk-container-id-1 div.sk-estimator input.sk-toggleable__control:checked~label.sk-toggleable__label {background-color: #d4ebff;}#sk-container-id-1 div.sk-label input.sk-toggleable__control:checked~label.sk-toggleable__label {background-color: #d4ebff;}#sk-container-id-1 input.sk-hidden--visually {border: 0;clip: rect(1px 1px 1px 1px);clip: rect(1px, 1px, 1px, 1px);height: 1px;margin: -1px;overflow: hidden;padding: 0;position: absolute;width: 1px;}#sk-container-id-1 div.sk-estimator {font-family: monospace;background-color: #f0f8ff;border: 1px dotted black;border-radius: 0.25em;box-sizing: border-box;margin-bottom: 0.5em;}#sk-container-id-1 div.sk-estimator:hover {background-color: #d4ebff;}#sk-container-id-1 div.sk-parallel-item::after {content: \"\";width: 100%;border-bottom: 1px solid gray;flex-grow: 1;}#sk-container-id-1 div.sk-label:hover label.sk-toggleable__label {background-color: #d4ebff;}#sk-container-id-1 div.sk-serial::before {content: \"\";position: absolute;border-left: 1px solid gray;box-sizing: border-box;top: 0;bottom: 0;left: 50%;z-index: 0;}#sk-container-id-1 div.sk-serial {display: flex;flex-direction: column;align-items: center;background-color: white;padding-right: 0.2em;padding-left: 0.2em;position: relative;}#sk-container-id-1 div.sk-item {position: relative;z-index: 1;}#sk-container-id-1 div.sk-parallel {display: flex;align-items: stretch;justify-content: center;background-color: white;position: relative;}#sk-container-id-1 div.sk-item::before, #sk-container-id-1 div.sk-parallel-item::before {content: \"\";position: absolute;border-left: 1px solid gray;box-sizing: border-box;top: 0;bottom: 0;left: 50%;z-index: -1;}#sk-container-id-1 div.sk-parallel-item {display: flex;flex-direction: column;z-index: 1;position: relative;background-color: white;}#sk-container-id-1 div.sk-parallel-item:first-child::after {align-self: flex-end;width: 50%;}#sk-container-id-1 div.sk-parallel-item:last-child::after {align-self: flex-start;width: 50%;}#sk-container-id-1 div.sk-parallel-item:only-child::after {width: 0;}#sk-container-id-1 div.sk-dashed-wrapped {border: 1px dashed gray;margin: 0 0.4em 0.5em 0.4em;box-sizing: border-box;padding-bottom: 0.4em;background-color: white;}#sk-container-id-1 div.sk-label label {font-family: monospace;font-weight: bold;display: inline-block;line-height: 1.2em;}#sk-container-id-1 div.sk-label-container {text-align: center;}#sk-container-id-1 div.sk-container {/* jupyter's `normalize.less` sets `[hidden] { display: none; }` but bootstrap.min.css set `[hidden] { display: none !important; }` so we also need the `!important` here to be able to override the default hidden behavior on the sphinx rendered scikit-learn.org. See: https://github.com/scikit-learn/scikit-learn/issues/21755 */display: inline-block !important;position: relative;}#sk-container-id-1 div.sk-text-repr-fallback {display: none;}</style><div id=\"sk-container-id-1\" class=\"sk-top-container\"><div class=\"sk-text-repr-fallback\"><pre>LinearRegression()</pre><b>In a Jupyter environment, please rerun this cell to show the HTML representation or trust the notebook. <br />On GitHub, the HTML representation is unable to render, please try loading this page with nbviewer.org.</b></div><div class=\"sk-container\" hidden><div class=\"sk-item\"><div class=\"sk-estimator sk-toggleable\"><input class=\"sk-toggleable__control sk-hidden--visually\" id=\"sk-estimator-id-1\" type=\"checkbox\" checked><label for=\"sk-estimator-id-1\" class=\"sk-toggleable__label sk-toggleable__label-arrow\">LinearRegression</label><div class=\"sk-toggleable__content\"><pre>LinearRegression()</pre></div></div></div></div></div>"
      ],
      "text/plain": [
       "LinearRegression()"
      ]
     },
     "execution_count": 6,
     "metadata": {},
     "output_type": "execute_result"
    }
   ],
   "source": [
    "# Splitting data into train and test sets (80% train, 20% test)\n",
    "# Since this is time series data, we'll avoid random shuffling\n",
    "train, test = train_test_split(data, test_size=0.2, shuffle=False)\n",
    "\n",
    "# Features and target variable for predicting 'Sales (NS)'\n",
    "features = ['Sales (NS)_lag1', 'Day_of_Week']\n",
    "target = 'Sales (NS)'\n",
    "\n",
    "X_train = train[features].iloc[1:]  # Excluding the first row due to NaN from shift operation\n",
    "y_train = train[target].iloc[1:]\n",
    "\n",
    "X_test = test[features].iloc[1:]  # Excluding the first row due to NaN from shift operation\n",
    "y_test = test[target].iloc[1:]\n",
    "\n",
    "# Initializing and training a linear regression model\n",
    "model = LinearRegression()\n",
    "model.fit(X_train, y_train)\n"
   ]
  },
  {
   "cell_type": "markdown",
   "metadata": {},
   "source": [
    "The linear regression model has been successfully trained on the training data.\n",
    "\n",
    "Now, let's evaluate the model's performance on the test set by making predictions and then calculating the Mean Absolute Error (MAE) and Root Mean Squared Error (RMSE)."
   ]
  },
  {
   "cell_type": "markdown",
   "metadata": {},
   "source": [
    "### Model Evaluation"
   ]
  },
  {
   "cell_type": "code",
   "execution_count": 7,
   "metadata": {},
   "outputs": [
    {
     "data": {
      "text/plain": [
       "(0.5583518558917855, 0.8291937960399239)"
      ]
     },
     "execution_count": 7,
     "metadata": {},
     "output_type": "execute_result"
    }
   ],
   "source": [
    "# Predicting on the test set\n",
    "y_pred = model.predict(X_test)\n",
    "\n",
    "# Calculating MAE and RMSE\n",
    "mae_final = mean_absolute_error(y_test, y_pred)\n",
    "rmse_final = np.sqrt(mean_squared_error(y_test, y_pred))\n",
    "\n",
    "mae_final, rmse_final\n"
   ]
  },
  {
   "cell_type": "markdown",
   "metadata": {},
   "source": [
    "Mean Absolute Error (MAE): 0.56\n",
    "Root Mean Squared Error (RMSE): 0.83 \n",
    "\n",
    "These metrics indicate the average error of the model in predicting Sales (NS). The visualizations provide insights into the sales trends for both Sales (NS) and Sales (GH)."
   ]
  }
 ],
 "metadata": {
  "kernelspec": {
   "display_name": "Python 3",
   "language": "python",
   "name": "python3"
  },
  "language_info": {
   "codemirror_mode": {
    "name": "ipython",
    "version": 3
   },
   "file_extension": ".py",
   "mimetype": "text/x-python",
   "name": "python",
   "nbconvert_exporter": "python",
   "pygments_lexer": "ipython3",
   "version": "3.11.4"
  },
  "orig_nbformat": 4
 },
 "nbformat": 4,
 "nbformat_minor": 2
}
